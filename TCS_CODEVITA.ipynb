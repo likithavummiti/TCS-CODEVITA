{
  "nbformat": 4,
  "nbformat_minor": 0,
  "metadata": {
    "colab": {
      "provenance": [],
      "authorship_tag": "ABX9TyOIg9CJSH2GR8hl8C+Zt2Nm",
      "include_colab_link": true
    },
    "kernelspec": {
      "name": "python3",
      "display_name": "Python 3"
    },
    "language_info": {
      "name": "python"
    }
  },
  "cells": [
    {
      "cell_type": "markdown",
      "metadata": {
        "id": "view-in-github",
        "colab_type": "text"
      },
      "source": [
        "<a href=\"https://colab.research.google.com/github/likithavummiti/TCS-CODEVITA/blob/main/TCS_CODEVITA.ipynb\" target=\"_parent\"><img src=\"https://colab.research.google.com/assets/colab-badge.svg\" alt=\"Open In Colab\"/></a>"
      ]
    },
    {
      "cell_type": "markdown",
      "source": [
        "FACTORIAL"
      ],
      "metadata": {
        "id": "EC_K-qfsA_Ir"
      }
    },
    {
      "cell_type": "code",
      "source": [
        "def factorial(n):\n",
        "    if n == 0:\n",
        "        return 1\n",
        "    else:\n",
        "        return n * factorial(n - 1)\n",
        "\n",
        "# Example usage:\n",
        "result = factorial(2)\n",
        "print(\"Factorial of 2 is:\", result)\n"
      ],
      "metadata": {
        "colab": {
          "base_uri": "https://localhost:8080/"
        },
        "id": "FL5hhi7hBGiT",
        "outputId": "91f1a5bf-299a-494f-8f00-85eabbf0c2d9"
      },
      "execution_count": 1,
      "outputs": [
        {
          "output_type": "stream",
          "name": "stdout",
          "text": [
            "Factorial of 2 is: 2\n"
          ]
        }
      ]
    },
    {
      "cell_type": "markdown",
      "source": [
        "EVEN"
      ],
      "metadata": {
        "id": "vfsVE54FBL-P"
      }
    },
    {
      "cell_type": "code",
      "source": [
        "# Print even numbers using pass\n",
        "for num in range(1, 11):\n",
        "    if num % 2 == 0:\n",
        "        print(num)\n",
        "    else:\n",
        "        pass\n",
        "\n",
        "# Ask the user for a number\n",
        "user_input = input(\"Enter a number: \")\n",
        "\n",
        "# Convert the user input to an integer\n",
        "try:\n",
        "    user_number = int(user_input)\n",
        "\n",
        "    # Check if the user's number is even\n",
        "    if user_number % 2 == 0:\n",
        "        print(f\"{user_number} is an even number.\")\n",
        "    else:\n",
        "        print(f\"{user_number} is not an even number.\")\n",
        "except ValueError:\n",
        "    print(\"Invalid input. Please enter a valid number.\")\n"
      ],
      "metadata": {
        "colab": {
          "base_uri": "https://localhost:8080/"
        },
        "id": "h-ynI6Q3BS7Y",
        "outputId": "fb612939-0d9e-4b56-c918-0ad0a0504713"
      },
      "execution_count": 4,
      "outputs": [
        {
          "output_type": "stream",
          "name": "stdout",
          "text": [
            "2\n",
            "4\n",
            "6\n",
            "8\n",
            "10\n",
            "Enter a number: 56567\n",
            "56567 is not an even number.\n"
          ]
        }
      ]
    },
    {
      "cell_type": "markdown",
      "source": [
        "FUNCTION"
      ],
      "metadata": {
        "id": "Ew1tGlKTBj9B"
      }
    },
    {
      "cell_type": "code",
      "source": [
        "def greet(name):\n",
        "    print(f\"Hiiii! {name}\")\n",
        "\n",
        "# Calling the function\n",
        "greet(\"likki\")  # Output: Hello, likki!\n",
        "greet(\"ishu\")    # Output: Hello, ishu!\n"
      ],
      "metadata": {
        "colab": {
          "base_uri": "https://localhost:8080/"
        },
        "id": "sycAh9qiBxiz",
        "outputId": "54a6540b-211a-4692-ad3c-3855161d0b62"
      },
      "execution_count": 5,
      "outputs": [
        {
          "output_type": "stream",
          "name": "stdout",
          "text": [
            "Hiiii! likki\n",
            "Hiiii! ishu\n"
          ]
        }
      ]
    },
    {
      "cell_type": "markdown",
      "source": [
        "PALINDROME"
      ],
      "metadata": {
        "id": "MpXuJpVxB9H7"
      }
    },
    {
      "cell_type": "markdown",
      "source": [
        "PALINDROME(lists)"
      ],
      "metadata": {
        "id": "r_XdTsfqCA40"
      }
    },
    {
      "cell_type": "code",
      "source": [
        "def is_palindrome(string):\n",
        "    string = string.lower().replace(\" \", \"\")  # Remove spaces and make lowercase\n",
        "    return list(string) == list(reversed(string))\n",
        "\n",
        "input_string = input(\"Enter a string: \")\n",
        "if is_palindrome(input_string):\n",
        "    print(\"It's a palindrome.\")\n",
        "else:\n",
        "    print(\"It's not a palindrome.\")\n"
      ],
      "metadata": {
        "colab": {
          "base_uri": "https://localhost:8080/"
        },
        "id": "T0L9t77ZCEBt",
        "outputId": "a3055588-fe7c-4f83-b558-74a47c7e18c6"
      },
      "execution_count": 6,
      "outputs": [
        {
          "output_type": "stream",
          "name": "stdout",
          "text": [
            "Enter a string: 212\n",
            "It's a palindrome.\n"
          ]
        }
      ]
    },
    {
      "cell_type": "markdown",
      "source": [
        "PALINDROME(LOOP)"
      ],
      "metadata": {
        "id": "9_0zbEa9CJqW"
      }
    },
    {
      "cell_type": "code",
      "source": [
        "def is_palindrome(string):\n",
        "    string = string.lower().replace(\" \", \"\")  # Remove spaces and make lowercase\n",
        "    left, right = 0, len(string) - 1\n",
        "\n",
        "    while left < right:\n",
        "        if string[left] != string[right]:\n",
        "            return False\n",
        "        left += 1\n",
        "        right -= 1\n",
        "    return True\n",
        "\n",
        "input_string = input(\"Enter a string: \")\n",
        "if is_palindrome(input_string):\n",
        "    print(\"It's a palindrome.\")\n",
        "else:\n",
        "    print(\"It's not a palindrome.\")\n"
      ],
      "metadata": {
        "colab": {
          "base_uri": "https://localhost:8080/"
        },
        "id": "UpKcoJDsCMrJ",
        "outputId": "5080c9ed-bcba-4cdc-e0ce-99074dd1678d"
      },
      "execution_count": 7,
      "outputs": [
        {
          "output_type": "stream",
          "name": "stdout",
          "text": [
            "Enter a string: 3434343\n",
            "It's a palindrome.\n"
          ]
        }
      ]
    },
    {
      "cell_type": "markdown",
      "source": [
        "PALINDROME(RECURSION)"
      ],
      "metadata": {
        "id": "TBY07eMdCSQU"
      }
    },
    {
      "cell_type": "code",
      "source": [
        "def is_palindrome(string):\n",
        "    string = string.lower().replace(\" \", \"\")  # Remove spaces and make lowercase\n",
        "    if len(string) <= 1:\n",
        "        return True\n",
        "    if string[0] == string[-1]:\n",
        "        return is_palindrome(string[1:-1])\n",
        "    return False\n",
        "\n",
        "input_string = input(\"Enter a string: \")\n",
        "if is_palindrome(input_string):\n",
        "    print(\"It's a palindrome.\")\n",
        "else:\n",
        "    print(\"It's not a palindrome.\")\n"
      ],
      "metadata": {
        "colab": {
          "base_uri": "https://localhost:8080/"
        },
        "id": "cOUO6FetCOnU",
        "outputId": "8ed43b14-015c-4941-ccc3-7983101de582"
      },
      "execution_count": 8,
      "outputs": [
        {
          "output_type": "stream",
          "name": "stdout",
          "text": [
            "Enter a string: 3753363\n",
            "It's not a palindrome.\n"
          ]
        }
      ]
    },
    {
      "cell_type": "markdown",
      "source": [
        "PALINDROME(SLICING)"
      ],
      "metadata": {
        "id": "LQB3aSo6Cf--"
      }
    },
    {
      "cell_type": "code",
      "source": [
        "def is_palindrome(string):\n",
        "    string = string.lower().replace(\" \", \"\")  # Remove spaces and make lowercase\n",
        "    return string == string[::-1]\n",
        "\n",
        "input_string = input(\"Enter a string: \")\n",
        "if is_palindrome(input_string):\n",
        "    print(\"It's a palindrome.\")\n",
        "else:\n",
        "    print(\"It's not a palindrome.\")\n"
      ],
      "metadata": {
        "colab": {
          "base_uri": "https://localhost:8080/"
        },
        "id": "dSEf83FpCsmp",
        "outputId": "708c99ac-ba9b-4e68-e7e2-e17ad7a9cdd5"
      },
      "execution_count": 11,
      "outputs": [
        {
          "output_type": "stream",
          "name": "stdout",
          "text": [
            "Enter a string: 54545\n",
            "It's a palindrome.\n"
          ]
        }
      ]
    },
    {
      "cell_type": "markdown",
      "source": [
        "PATTERNS"
      ],
      "metadata": {
        "id": "N1Fv7UHJC3X-"
      }
    },
    {
      "cell_type": "code",
      "source": [
        "n = 5\n",
        "for i in range(1, n + 1):\n",
        "    print('*' * i)\n"
      ],
      "metadata": {
        "colab": {
          "base_uri": "https://localhost:8080/"
        },
        "id": "g7WU2pRhCdjf",
        "outputId": "77276151-991b-4f5f-bf51-097f369be9f0"
      },
      "execution_count": 9,
      "outputs": [
        {
          "output_type": "stream",
          "name": "stdout",
          "text": [
            "*\n",
            "**\n",
            "***\n",
            "****\n",
            "*****\n"
          ]
        }
      ]
    },
    {
      "cell_type": "code",
      "source": [
        " n = 5\n",
        "for i in range(1, n + 1):\n",
        "    print(' ' * (n - i) + '*' * i)\n"
      ],
      "metadata": {
        "colab": {
          "base_uri": "https://localhost:8080/"
        },
        "id": "96-Zht5gCwoO",
        "outputId": "7770fe3b-44d6-4933-ccd2-1b11cb62dc4b"
      },
      "execution_count": 12,
      "outputs": [
        {
          "output_type": "stream",
          "name": "stdout",
          "text": [
            "    *\n",
            "   **\n",
            "  ***\n",
            " ****\n",
            "*****\n"
          ]
        }
      ]
    },
    {
      "cell_type": "code",
      "source": [
        "n = 5\n",
        "for i in range(n, 0, -1):\n",
        "    print('*' * i)\n"
      ],
      "metadata": {
        "colab": {
          "base_uri": "https://localhost:8080/"
        },
        "id": "bULfF8eNJn3V",
        "outputId": "41c40acc-7c82-4625-aba4-aa344bbf52f6"
      },
      "execution_count": 13,
      "outputs": [
        {
          "output_type": "stream",
          "name": "stdout",
          "text": [
            "*****\n",
            "****\n",
            "***\n",
            "**\n",
            "*\n"
          ]
        }
      ]
    },
    {
      "cell_type": "code",
      "source": [
        "n = 5\n",
        "for i in range(1, n + 1):\n",
        "    print(' ' * (n - i) + '*' * (2 * i - 1))\n",
        "for i in range(n - 1, 0, -1):\n",
        "    print(' ' * (n - i) + '*' * (2 * i - 1))\n"
      ],
      "metadata": {
        "colab": {
          "base_uri": "https://localhost:8080/"
        },
        "id": "C2Ut5jPjJpt3",
        "outputId": "0f4a1597-0233-4e0c-8eab-12e253eec5cd"
      },
      "execution_count": 14,
      "outputs": [
        {
          "output_type": "stream",
          "name": "stdout",
          "text": [
            "    *\n",
            "   ***\n",
            "  *****\n",
            " *******\n",
            "*********\n",
            " *******\n",
            "  *****\n",
            "   ***\n",
            "    *\n"
          ]
        }
      ]
    },
    {
      "cell_type": "code",
      "source": [
        "n = 5\n",
        "for i in range(1, n + 1):\n",
        "    print(' ' * (n - i) + ' '.join(map(str, range(1, i + 1))))\n"
      ],
      "metadata": {
        "colab": {
          "base_uri": "https://localhost:8080/"
        },
        "id": "bmDAX6EhJtGc",
        "outputId": "a9e1bc6f-72eb-42e5-ef86-81cd1ae1d497"
      },
      "execution_count": 15,
      "outputs": [
        {
          "output_type": "stream",
          "name": "stdout",
          "text": [
            "    1\n",
            "   1 2\n",
            "  1 2 3\n",
            " 1 2 3 4\n",
            "1 2 3 4 5\n"
          ]
        }
      ]
    },
    {
      "cell_type": "code",
      "source": [
        "n = 5\n",
        "for i in range(1, n + 1):\n",
        "    print(' ' * (n - i) + '*' * (2 * i - 1))"
      ],
      "metadata": {
        "colab": {
          "base_uri": "https://localhost:8080/"
        },
        "id": "kXfwYy7wJv83",
        "outputId": "ab8733f7-96d6-4416-adc4-4a3c53f807b0"
      },
      "execution_count": 16,
      "outputs": [
        {
          "output_type": "stream",
          "name": "stdout",
          "text": [
            "    *\n",
            "   ***\n",
            "  *****\n",
            " *******\n",
            "*********\n"
          ]
        }
      ]
    },
    {
      "cell_type": "code",
      "source": [
        "n=10\n",
        "for i in range(n - 1, 0, -1):\n",
        "    print(' ' * (n - i) + '*' * (2 * i - 1))"
      ],
      "metadata": {
        "colab": {
          "base_uri": "https://localhost:8080/"
        },
        "id": "-VXHzMkIJ1xy",
        "outputId": "aba77e09-ab46-4618-bad3-418f6f8e0c8d"
      },
      "execution_count": 19,
      "outputs": [
        {
          "output_type": "stream",
          "name": "stdout",
          "text": [
            " *****************\n",
            "  ***************\n",
            "   *************\n",
            "    ***********\n",
            "     *********\n",
            "      *******\n",
            "       *****\n",
            "        ***\n",
            "         *\n"
          ]
        }
      ]
    },
    {
      "cell_type": "code",
      "source": [],
      "metadata": {
        "id": "1jzEu2X2J9K1"
      },
      "execution_count": null,
      "outputs": []
    }
  ]
}